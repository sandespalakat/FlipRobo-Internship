{
 "cells": [
  {
   "cell_type": "markdown",
   "metadata": {},
   "source": [
    "## Rating-Prediction"
   ]
  },
  {
   "cell_type": "markdown",
   "metadata": {},
   "source": [
    "Problem\n",
    "\n",
    "\n",
    "We have a client who has a website where people write different reviews for technical products.\n",
    "Now they are adding a new feature to their website i.e. The reviewer will have to add stars(rating)\n",
    "as well with the review. The rating is out 5 stars and it only has 5 options available 1 star, 2 stars,\n",
    "3 stars, 4 stars, 5 stars. Now they want to predict ratings for the reviews which were written in the\n",
    "past and they don’t have a rating. So, we have to build an application which can predict the rating\n",
    "by seeing the review.\n",
    "\n",
    "Data Collection Phase\n",
    "\n",
    "You have to scrape at least 20000 rows of data. You can scrape more data as well, it’s up to you.\n",
    "more the data better the model\n",
    "\n",
    "\n",
    "In this section you need to scrape the reviews of different laptops, Phones, Headphones, smart\n",
    "watches, Professional Cameras, Printers, Monitors, Home theater, Router from different ecommerce websites.\n",
    "Basically, we need these columns\n",
    "\n",
    "1) reviews of the product.\n",
    "\n",
    "2) rating of the product.\n",
    "\n",
    "You can fetch other data as well, if you think data can be useful or can help in the project. It\n",
    "completely depends on your imagination or assumption.\n",
    "\n",
    "Hint:\n",
    "• Try to fetch data from different websites. If data is from different websites, it will help our\n",
    "model to remove the effect of over fitting.\n",
    "\n",
    "• Try to fetch an equal number of reviews for each rating, for example if you are fetching\n",
    "10000 reviews then all ratings 1,2,3,4,5 should be 2000. It will balance our data set.\n",
    "\n",
    "• Convert all the ratings to their round number, as there are only 5 options for rating i.e.,\n",
    "1,2,3,4,5. If a rating is 4.5 convert it 5.\n",
    "\n",
    "Model Building Phase\n",
    "\n",
    "After collecting the data, you need to build a machine learning model. Before model building do\n",
    "all data preprocessing steps involving NLP. Try different models with different hyper parameters\n",
    "and select the best model.\n",
    "\n",
    "Follow the complete life cycle of data science. Include all the steps like1. Data Cleaning\n",
    "\n",
    "2. Exploratory Data Analysis\n",
    "\n",
    "3. Data Preprocessing\n",
    "\n",
    "4. Model Building\n",
    "\n",
    "5. Model Evaluation\n",
    "\n",
    "6. Selecting the best model"
   ]
  },
  {
   "cell_type": "code",
   "execution_count": 1,
   "metadata": {},
   "outputs": [
    {
     "name": "stdout",
     "output_type": "stream",
     "text": [
      "Requirement already satisfied: selenium in d:\\program_files\\anaconda\\lib\\site-packages (3.141.0)\n",
      "Requirement already satisfied: urllib3 in d:\\program_files\\anaconda\\lib\\site-packages (from selenium) (1.25.9)\n"
     ]
    }
   ],
   "source": [
    "#importing libraries\n",
    "!pip install selenium\n",
    "from selenium import webdriver\n",
    "import time\n",
    "import pandas as pd\n",
    "import numpy as np\n",
    "import sys\n",
    "import re\n",
    "import nltk\n",
    "from nltk.stem.porter import PorterStemmer\n",
    "from nltk.corpus import stopwords\n",
    "from nltk.stem import WordNetLemmatizer"
   ]
  },
  {
   "cell_type": "code",
   "execution_count": 2,
   "metadata": {},
   "outputs": [],
   "source": [
    "#reading data\n",
    "data = pd.read_csv(\"Rating_data.csv\")"
   ]
  },
  {
   "cell_type": "code",
   "execution_count": 3,
   "metadata": {},
   "outputs": [],
   "source": [
    "data = data.iloc[:,1:]"
   ]
  },
  {
   "cell_type": "code",
   "execution_count": 8,
   "metadata": {},
   "outputs": [
    {
     "data": {
      "text/html": [
       "<div>\n",
       "<style scoped>\n",
       "    .dataframe tbody tr th:only-of-type {\n",
       "        vertical-align: middle;\n",
       "    }\n",
       "\n",
       "    .dataframe tbody tr th {\n",
       "        vertical-align: top;\n",
       "    }\n",
       "\n",
       "    .dataframe thead th {\n",
       "        text-align: right;\n",
       "    }\n",
       "</style>\n",
       "<table border=\"1\" class=\"dataframe\">\n",
       "  <thead>\n",
       "    <tr style=\"text-align: right;\">\n",
       "      <th></th>\n",
       "      <th>rating</th>\n",
       "      <th>review</th>\n",
       "    </tr>\n",
       "  </thead>\n",
       "  <tbody>\n",
       "    <tr>\n",
       "      <th>0</th>\n",
       "      <td>5</td>\n",
       "      <td>Fantastic value for money machine!! Absolute b...</td>\n",
       "    </tr>\n",
       "    <tr>\n",
       "      <th>1</th>\n",
       "      <td>5</td>\n",
       "      <td>The best you can get, looks and performance bo...</td>\n",
       "    </tr>\n",
       "    <tr>\n",
       "      <th>2</th>\n",
       "      <td>5</td>\n",
       "      <td>For everyone, who is planning to buy MBA M1-\\n...</td>\n",
       "    </tr>\n",
       "    <tr>\n",
       "      <th>3</th>\n",
       "      <td>5</td>\n",
       "      <td>Ultimate machine, best laptop I have ever used...</td>\n",
       "    </tr>\n",
       "    <tr>\n",
       "      <th>4</th>\n",
       "      <td>5</td>\n",
       "      <td>At the current scenario where a proper Graphic...</td>\n",
       "    </tr>\n",
       "    <tr>\n",
       "      <th>...</th>\n",
       "      <td>...</td>\n",
       "      <td>...</td>\n",
       "    </tr>\n",
       "    <tr>\n",
       "      <th>166752</th>\n",
       "      <td>5</td>\n",
       "      <td>Nice product</td>\n",
       "    </tr>\n",
       "    <tr>\n",
       "      <th>166753</th>\n",
       "      <td>5</td>\n",
       "      <td>Best Monitor ,New model 2021 Best display ,ver...</td>\n",
       "    </tr>\n",
       "    <tr>\n",
       "      <th>166754</th>\n",
       "      <td>3</td>\n",
       "      <td>Product is good. But the refresh rate of 75Hz ...</td>\n",
       "    </tr>\n",
       "    <tr>\n",
       "      <th>166755</th>\n",
       "      <td>5</td>\n",
       "      <td>Bast</td>\n",
       "    </tr>\n",
       "    <tr>\n",
       "      <th>166756</th>\n",
       "      <td>5</td>\n",
       "      <td>liked the sleek design. Resolution is very goo...</td>\n",
       "    </tr>\n",
       "  </tbody>\n",
       "</table>\n",
       "<p>166757 rows × 2 columns</p>\n",
       "</div>"
      ],
      "text/plain": [
       "        rating                                             review\n",
       "0            5  Fantastic value for money machine!! Absolute b...\n",
       "1            5  The best you can get, looks and performance bo...\n",
       "2            5  For everyone, who is planning to buy MBA M1-\\n...\n",
       "3            5  Ultimate machine, best laptop I have ever used...\n",
       "4            5  At the current scenario where a proper Graphic...\n",
       "...        ...                                                ...\n",
       "166752       5                                       Nice product\n",
       "166753       5  Best Monitor ,New model 2021 Best display ,ver...\n",
       "166754       3  Product is good. But the refresh rate of 75Hz ...\n",
       "166755       5                                               Bast\n",
       "166756       5  liked the sleek design. Resolution is very goo...\n",
       "\n",
       "[166757 rows x 2 columns]"
      ]
     },
     "execution_count": 8,
     "metadata": {},
     "output_type": "execute_result"
    }
   ],
   "source": [
    "data"
   ]
  },
  {
   "cell_type": "code",
   "execution_count": 10,
   "metadata": {},
   "outputs": [
    {
     "data": {
      "text/plain": [
       "6275"
      ]
     },
     "execution_count": 10,
     "metadata": {},
     "output_type": "execute_result"
    }
   ],
   "source": [
    "#finding the mini. no of rating so that we can balance the data\n",
    "data.rating.value_counts().min()"
   ]
  },
  {
   "cell_type": "code",
   "execution_count": 20,
   "metadata": {},
   "outputs": [],
   "source": [
    "#seperate and reducing the data by eual numbers by rating \n",
    "data5 = data[data.rating == 5].iloc[:data.rating.value_counts().min(),:]\n",
    "data4 = data[data.rating == 4].iloc[:data.rating.value_counts().min(),:]\n",
    "data3 = data[data.rating == 3].iloc[:data.rating.value_counts().min(),:]\n",
    "data2 = data[data.rating == 2].iloc[:data.rating.value_counts().min(),:]\n",
    "data1 = data[data.rating == 1].iloc[:data.rating.value_counts().min(),:]"
   ]
  },
  {
   "cell_type": "code",
   "execution_count": 21,
   "metadata": {},
   "outputs": [],
   "source": [
    "#concatinate all data to get balanced dataset\n",
    "data = pd.concat([data1, data2, data3, data4, data5] , axis=0)"
   ]
  },
  {
   "cell_type": "code",
   "execution_count": 25,
   "metadata": {},
   "outputs": [],
   "source": [
    "#resetting the index\n",
    "data = pd.DataFrame.reset_index(data)"
   ]
  },
  {
   "cell_type": "code",
   "execution_count": 26,
   "metadata": {},
   "outputs": [
    {
     "data": {
      "text/html": [
       "<div>\n",
       "<style scoped>\n",
       "    .dataframe tbody tr th:only-of-type {\n",
       "        vertical-align: middle;\n",
       "    }\n",
       "\n",
       "    .dataframe tbody tr th {\n",
       "        vertical-align: top;\n",
       "    }\n",
       "\n",
       "    .dataframe thead th {\n",
       "        text-align: right;\n",
       "    }\n",
       "</style>\n",
       "<table border=\"1\" class=\"dataframe\">\n",
       "  <thead>\n",
       "    <tr style=\"text-align: right;\">\n",
       "      <th></th>\n",
       "      <th>index</th>\n",
       "      <th>rating</th>\n",
       "      <th>review</th>\n",
       "    </tr>\n",
       "  </thead>\n",
       "  <tbody>\n",
       "    <tr>\n",
       "      <th>0</th>\n",
       "      <td>90</td>\n",
       "      <td>1</td>\n",
       "      <td>Charger stopped working after 2 weeks of purch...</td>\n",
       "    </tr>\n",
       "    <tr>\n",
       "      <th>1</th>\n",
       "      <td>171</td>\n",
       "      <td>1</td>\n",
       "      <td>Battery drain fastly</td>\n",
       "    </tr>\n",
       "    <tr>\n",
       "      <th>2</th>\n",
       "      <td>175</td>\n",
       "      <td>1</td>\n",
       "      <td>Poor battery life.</td>\n",
       "    </tr>\n",
       "    <tr>\n",
       "      <th>3</th>\n",
       "      <td>187</td>\n",
       "      <td>1</td>\n",
       "      <td>Very cheap product with very cheap service of ...</td>\n",
       "    </tr>\n",
       "    <tr>\n",
       "      <th>4</th>\n",
       "      <td>210</td>\n",
       "      <td>1</td>\n",
       "      <td>Received defective product ,the display blinki...</td>\n",
       "    </tr>\n",
       "    <tr>\n",
       "      <th>...</th>\n",
       "      <td>...</td>\n",
       "      <td>...</td>\n",
       "      <td>...</td>\n",
       "    </tr>\n",
       "    <tr>\n",
       "      <th>31370</th>\n",
       "      <td>10957</td>\n",
       "      <td>5</td>\n",
       "      <td>It's amazing laptop .</td>\n",
       "    </tr>\n",
       "    <tr>\n",
       "      <th>31371</th>\n",
       "      <td>10958</td>\n",
       "      <td>5</td>\n",
       "      <td>best price product ❤️🔥</td>\n",
       "    </tr>\n",
       "    <tr>\n",
       "      <th>31372</th>\n",
       "      <td>10959</td>\n",
       "      <td>5</td>\n",
       "      <td>The laptop isn't heavy as i thought it to be. ...</td>\n",
       "    </tr>\n",
       "    <tr>\n",
       "      <th>31373</th>\n",
       "      <td>10963</td>\n",
       "      <td>5</td>\n",
       "      <td>Best gaming leptop🔥</td>\n",
       "    </tr>\n",
       "    <tr>\n",
       "      <th>31374</th>\n",
       "      <td>10965</td>\n",
       "      <td>5</td>\n",
       "      <td>VALUE FOR MONEY.</td>\n",
       "    </tr>\n",
       "  </tbody>\n",
       "</table>\n",
       "<p>31375 rows × 3 columns</p>\n",
       "</div>"
      ],
      "text/plain": [
       "       index  rating                                             review\n",
       "0         90       1  Charger stopped working after 2 weeks of purch...\n",
       "1        171       1                               Battery drain fastly\n",
       "2        175       1                                 Poor battery life.\n",
       "3        187       1  Very cheap product with very cheap service of ...\n",
       "4        210       1  Received defective product ,the display blinki...\n",
       "...      ...     ...                                                ...\n",
       "31370  10957       5                              It's amazing laptop .\n",
       "31371  10958       5                             best price product ❤️🔥\n",
       "31372  10959       5  The laptop isn't heavy as i thought it to be. ...\n",
       "31373  10963       5                                Best gaming leptop🔥\n",
       "31374  10965       5                                   VALUE FOR MONEY.\n",
       "\n",
       "[31375 rows x 3 columns]"
      ]
     },
     "execution_count": 26,
     "metadata": {},
     "output_type": "execute_result"
    }
   ],
   "source": [
    "data"
   ]
  },
  {
   "cell_type": "code",
   "execution_count": 43,
   "metadata": {},
   "outputs": [],
   "source": [
    "#remove unwanted texts and lemmatize the words\n",
    "corpus = []\n",
    "for i in range(0, len(data)):\n",
    "    review = re.sub(\"[^a-zA-Z]\", \" \", data[\"review\"][i])\n",
    "    review = review.lower()\n",
    "    review = review.split()\n",
    "    review = [WordNetLemmatizer().lemmatize(word) for word in review]\n",
    "    review = \" \".join(review)\n",
    "    corpus.append(review)"
   ]
  },
  {
   "cell_type": "code",
   "execution_count": 44,
   "metadata": {},
   "outputs": [],
   "source": [
    "from sklearn.feature_extraction.text import CountVectorizer"
   ]
  },
  {
   "cell_type": "code",
   "execution_count": 45,
   "metadata": {},
   "outputs": [],
   "source": [
    "#trnasform the words using count vectorizer\n",
    "cv = CountVectorizer()\n",
    "x = cv.fit_transform(corpus).toarray()\n",
    "y = data[\"rating\"]\n"
   ]
  },
  {
   "cell_type": "code",
   "execution_count": 46,
   "metadata": {},
   "outputs": [],
   "source": [
    "from sklearn.model_selection import train_test_split"
   ]
  },
  {
   "cell_type": "code",
   "execution_count": 47,
   "metadata": {},
   "outputs": [],
   "source": [
    "#spliiting the dataset\n",
    "xtrain, xtest, ytrain, ytest = train_test_split(x, y, test_size=.2, random_state=0)"
   ]
  },
  {
   "cell_type": "code",
   "execution_count": 48,
   "metadata": {},
   "outputs": [],
   "source": [
    "#trying different models to find best model \n",
    "from sklearn.naive_bayes import MultinomialNB"
   ]
  },
  {
   "cell_type": "code",
   "execution_count": 49,
   "metadata": {},
   "outputs": [
    {
     "data": {
      "text/plain": [
       "MultinomialNB()"
      ]
     },
     "execution_count": 49,
     "metadata": {},
     "output_type": "execute_result"
    }
   ],
   "source": [
    "model = MultinomialNB()\n",
    "model.fit(xtrain, ytrain)"
   ]
  },
  {
   "cell_type": "code",
   "execution_count": 50,
   "metadata": {},
   "outputs": [],
   "source": [
    "predict = model.predict(xtest)"
   ]
  },
  {
   "cell_type": "code",
   "execution_count": 51,
   "metadata": {},
   "outputs": [],
   "source": [
    "from sklearn.metrics import accuracy_score"
   ]
  },
  {
   "cell_type": "code",
   "execution_count": 52,
   "metadata": {},
   "outputs": [
    {
     "data": {
      "text/plain": [
       "0.7470916286879348"
      ]
     },
     "execution_count": 52,
     "metadata": {},
     "output_type": "execute_result"
    }
   ],
   "source": [
    "accuracy_score(ytest, predict)"
   ]
  },
  {
   "cell_type": "code",
   "execution_count": 53,
   "metadata": {},
   "outputs": [],
   "source": [
    "from sklearn.tree import DecisionTreeClassifier"
   ]
  },
  {
   "cell_type": "code",
   "execution_count": 54,
   "metadata": {},
   "outputs": [
    {
     "data": {
      "text/plain": [
       "0.8781782201966899"
      ]
     },
     "execution_count": 54,
     "metadata": {},
     "output_type": "execute_result"
    }
   ],
   "source": [
    "dctree = DecisionTreeClassifier(criterion = \"entropy\", random_state = 0)\n",
    "dctree.fit(xtrain, ytrain)\n",
    "predict = dctree.predict(xtest)\n",
    "accuracy_score(ytest, predict)"
   ]
  },
  {
   "cell_type": "code",
   "execution_count": 55,
   "metadata": {},
   "outputs": [],
   "source": [
    "from sklearn.ensemble import RandomForestClassifier"
   ]
  },
  {
   "cell_type": "code",
   "execution_count": 56,
   "metadata": {},
   "outputs": [],
   "source": [
    "rf = RandomForestClassifier(n_estimators = 300, criterion = \"entropy\", random_state = 0)\n",
    "rf.fit(xtrain, ytrain)\n",
    "predict = rf.predict(xtest)\n"
   ]
  },
  {
   "cell_type": "code",
   "execution_count": 57,
   "metadata": {},
   "outputs": [
    {
     "data": {
      "text/plain": [
       "0.8868733509234829"
      ]
     },
     "execution_count": 57,
     "metadata": {},
     "output_type": "execute_result"
    }
   ],
   "source": [
    "accuracy_score(ytest, predict)"
   ]
  },
  {
   "cell_type": "code",
   "execution_count": null,
   "metadata": {},
   "outputs": [],
   "source": [
    "#RandomForest is the best model which has an accuracy of 88.6%"
   ]
  },
  {
   "cell_type": "code",
   "execution_count": 2,
   "metadata": {},
   "outputs": [],
   "source": [
    "#saving the model\n",
    "import joblib"
   ]
  },
  {
   "cell_type": "code",
   "execution_count": 59,
   "metadata": {},
   "outputs": [
    {
     "data": {
      "text/plain": [
       "['model.obj']"
      ]
     },
     "execution_count": 59,
     "metadata": {},
     "output_type": "execute_result"
    }
   ],
   "source": [
    "joblib.dump(rf,\"model.obj\")"
   ]
  },
  {
   "cell_type": "code",
   "execution_count": 60,
   "metadata": {},
   "outputs": [
    {
     "data": {
      "text/plain": [
       "['cv.obj']"
      ]
     },
     "execution_count": 60,
     "metadata": {},
     "output_type": "execute_result"
    }
   ],
   "source": [
    "joblib.dump(cv,\"cv.obj\")"
   ]
  },
  {
   "cell_type": "code",
   "execution_count": 3,
   "metadata": {},
   "outputs": [],
   "source": [
    "#a test review\n",
    "mag = \"\"\"Overview: Good for the price\"\"\"\n",
    "cv = joblib.load(\"cv.obj\")\n",
    "rf = joblib.load(\"model.obj\")"
   ]
  },
  {
   "cell_type": "code",
   "execution_count": 4,
   "metadata": {},
   "outputs": [],
   "source": [
    "corpus = []\n",
    "review = re.sub(\"[^a-zA-Z]\", \" \", mag)\n",
    "review = review.lower()\n",
    "review = review.split()\n",
    "review = [WordNetLemmatizer().lemmatize(word) for word in review ]\n",
    "review = \" \".join(review)\n",
    "corpus.append(review)"
   ]
  },
  {
   "cell_type": "code",
   "execution_count": 5,
   "metadata": {},
   "outputs": [],
   "source": [
    "x = cv.transform(corpus).toarray()"
   ]
  },
  {
   "cell_type": "code",
   "execution_count": 6,
   "metadata": {},
   "outputs": [],
   "source": [
    "pr = rf.predict(x)"
   ]
  },
  {
   "cell_type": "code",
   "execution_count": 7,
   "metadata": {},
   "outputs": [
    {
     "data": {
      "text/plain": [
       "array([3], dtype=int64)"
      ]
     },
     "execution_count": 7,
     "metadata": {},
     "output_type": "execute_result"
    }
   ],
   "source": [
    "pr"
   ]
  },
  {
   "cell_type": "code",
   "execution_count": null,
   "metadata": {},
   "outputs": [],
   "source": []
  }
 ],
 "metadata": {
  "kernelspec": {
   "display_name": "Python 3",
   "language": "python",
   "name": "python3"
  },
  "language_info": {
   "codemirror_mode": {
    "name": "ipython",
    "version": 3
   },
   "file_extension": ".py",
   "mimetype": "text/x-python",
   "name": "python",
   "nbconvert_exporter": "python",
   "pygments_lexer": "ipython3",
   "version": "3.8.3"
  }
 },
 "nbformat": 4,
 "nbformat_minor": 4
}
