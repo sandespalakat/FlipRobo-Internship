{
 "cells": [
  {
   "cell_type": "markdown",
   "metadata": {},
   "source": [
    "### Scraping the reviews"
   ]
  },
  {
   "cell_type": "code",
   "execution_count": 1,
   "metadata": {},
   "outputs": [
    {
     "name": "stdout",
     "output_type": "stream",
     "text": [
      "Requirement already satisfied: selenium in d:\\program_files\\anaconda\\lib\\site-packages (3.141.0)\n",
      "Requirement already satisfied: urllib3 in d:\\program_files\\anaconda\\lib\\site-packages (from selenium) (1.25.9)\n"
     ]
    }
   ],
   "source": [
    "#importing libraries\n",
    "!pip install selenium\n",
    "from selenium import webdriver\n",
    "import time\n",
    "import pandas as pd\n",
    "import numpy as np\n",
    "import sys\n",
    "import re\n",
    "import csv\n",
    "import math"
   ]
  },
  {
   "cell_type": "raw",
   "metadata": {},
   "source": [
    "Getting products from Flipkart"
   ]
  },
  {
   "cell_type": "code",
   "execution_count": null,
   "metadata": {},
   "outputs": [],
   "source": [
    "#initializing the driver\n",
    "driver = webdriver.Chrome(executable_path = r\"C:\\Users\\sande\\Downloads\\chromedriver.exe\")\n",
    "url = \"https://www.flipkart.com\"\n",
    "driver.get(url)\n",
    "time.sleep(3)"
   ]
  },
  {
   "cell_type": "code",
   "execution_count": null,
   "metadata": {},
   "outputs": [],
   "source": [
    "#initilize url list\n",
    "urls = []\n",
    "products = [\"Laptops\", \"Phones\", \"Headphones\", \"smart watches\", \"Professional Cameras\",\n",
    "            \"Printers\", \"Monitors\", \"Home theater\", \"Route\"]\n",
    "\n",
    "#put different products to get their urls\n",
    "for pdct in products:\n",
    "    time.sleep(10)\n",
    "    url = \"https://www.flipkart.com\"\n",
    "    driver.get(url)\n",
    "    query = driver.find_element_by_name('q')\n",
    "    query.clear()\n",
    "    query.send_keys(pdct)\n",
    "    g = driver.find_element_by_class_name('L0Z3Pu')\n",
    "    g.click()\n",
    "\n",
    "\n",
    "    #looping through the pages to get urls\n",
    "    cont = True\n",
    "    while(cont):\n",
    "        time.sleep(6)\n",
    "        #getting the information div by class\n",
    "        divs = driver.find_elements_by_class_name('_2kHMtA')\n",
    "        #looping through each products\n",
    "        for div in divs:\n",
    "            #appending url to the currsponding list\n",
    "            urls.append(div.find_element_by_class_name('_1fQZEK').get_attribute(\"href\"))\n",
    "        next_page = driver.find_elements_by_xpath(\"//a[@class='_1LKTO3']\")\n",
    "        try:\n",
    "            #go to next page\n",
    "            driver.get(next_page[0].get_attribute('href'))\n",
    "        except Exception as e:\n",
    "            cont = False"
   ]
  },
  {
   "cell_type": "code",
   "execution_count": null,
   "metadata": {},
   "outputs": [],
   "source": [
    "#we got around 2500 products on the required category"
   ]
  },
  {
   "cell_type": "code",
   "execution_count": null,
   "metadata": {},
   "outputs": [],
   "source": [
    "#initializing the array\n",
    "ratings = []\n",
    "full_reviews = []"
   ]
  },
  {
   "cell_type": "code",
   "execution_count": null,
   "metadata": {},
   "outputs": [],
   "source": [
    "#looping through the url to fetch and save the reviews\n",
    "for url in urls:\n",
    "    time.sleep(5)\n",
    "    driver.get(url)\n",
    "    time.sleep(5)\n",
    "    try:\n",
    "        #click all review button\n",
    "        all_reviews = driver.find_element_by_class_name(\"_3UAT2v\")\n",
    "        all_reviews.click()\n",
    "        time.sleep(3)\n",
    "        #if there are \"read more\" button, click all of this to get full review text\n",
    "        read_more = driver.find_elements_by_class_name(\"_1BWGvX\")\n",
    "        for read in read_more:\n",
    "            read.click()\n",
    "        go = True\n",
    "        first = True\n",
    "        while(go):\n",
    "            #getting the information div by class\n",
    "            divs = driver.find_elements_by_class_name(\"_2wzgFH\")\n",
    "            for div in divs:\n",
    "                #appending info to the lists\n",
    "                ratings.append(div.find_element_by_class_name('_3LWZlK').text)\n",
    "                full_reviews.append(div.find_element_by_class_name('t-ZTKy').text)\n",
    "            next_page = driver.find_elements_by_xpath(\"//a[@class='_1LKTO3']\")\n",
    "            try:\n",
    "                #go to next page\n",
    "                driver.get(next_page[1].get_attribute('href'))\n",
    "            except Exception as e:\n",
    "                if first:\n",
    "                    first = False\n",
    "                else:\n",
    "                    go = False\n",
    "                driver.get(next_page[0].get_attribute('href'))\n",
    "    except:\n",
    "        read_more = driver.find_elements_by_class_name(\"_1BWGvX\")\n",
    "        for read in read_more:\n",
    "            read.click()\n",
    "        divs = driver.find_elements_by_class_name(\"_2wzgFH\")\n",
    "        for div in divs:\n",
    "            #appending info to the lists\n",
    "            ratings.append(div.find_element_by_class_name('_3LWZlK').text)\n",
    "            full_reviews.append(div.find_element_by_class_name('t-ZTKy').text)\n",
    "    "
   ]
  },
  {
   "cell_type": "code",
   "execution_count": null,
   "metadata": {},
   "outputs": [],
   "source": [
    "#converting to a dataframe\n",
    "data = pd.DataFrame({\"rating\":rating, \"reviews\":full_reviews})"
   ]
  },
  {
   "cell_type": "code",
   "execution_count": null,
   "metadata": {},
   "outputs": [],
   "source": [
    "#save as csv file\n",
    "data.to_csv(\"Rating_data1.csv\")"
   ]
  },
  {
   "cell_type": "code",
   "execution_count": null,
   "metadata": {},
   "outputs": [],
   "source": [
    "full_data = pd.concat([], axis=0)"
   ]
  }
 ],
 "metadata": {
  "kernelspec": {
   "display_name": "Python 3",
   "language": "python",
   "name": "python3"
  },
  "language_info": {
   "codemirror_mode": {
    "name": "ipython",
    "version": 3
   },
   "file_extension": ".py",
   "mimetype": "text/x-python",
   "name": "python",
   "nbconvert_exporter": "python",
   "pygments_lexer": "ipython3",
   "version": "3.8.3"
  }
 },
 "nbformat": 4,
 "nbformat_minor": 4
}
